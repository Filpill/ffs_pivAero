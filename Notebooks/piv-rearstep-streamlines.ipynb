{
 "cells": [
  {
   "cell_type": "code",
   "execution_count": 3,
   "id": "06635fa0-70b0-4f88-b9f0-3140edaaf372",
   "metadata": {},
   "outputs": [
    {
     "name": "stdout",
     "output_type": "stream",
     "text": [
      "Data processing complete -- Printing Streamplot Animation\n"
     ]
    },
    {
     "name": "stderr",
     "output_type": "stream",
     "text": [
      "\n",
      "KeyboardInterrupt\n",
      "\n"
     ]
    },
    {
     "data": {
      "image/png": "[encoded data removed]",
      "text/plain": [
       "<Figure size 1080x720 with 1 Axes>"
      ]
     },
     "metadata": {
      "needs_background": "light"
     },
     "output_type": "display_data"
    }
   ],
   "source": [
    "import sys\n",
    "import pandas as pd\n",
    "import numpy as np\n",
    "import matplotlib.pyplot as plt\n",
    "import matplotlib.animation as animation\n",
    "import matplotlib.patches as patches\n",
    "import matplotlib.cm as cm\n",
    "import matplotlib.colors as colors\n",
    "\n",
    "######################################################## \n",
    "\n",
    "#Reading in PIV Vector Data\n",
    "fileroot = f'{sys.path[0]}/V20_rear_01run/PLT_WS24/'\n",
    "fileprefix = 'B00'\n",
    "fileext = '.plt'\n",
    "\n",
    "total_frames=25\n",
    "\n",
    "# norm = Normalize()\n",
    "# norm.autoscale(colors)\n",
    "# # we need to normalize our colors array to match it colormap domain\n",
    "# # which is [0, 1]\n",
    "\n",
    "# colormap = cm.RdBu\n",
    "    \n",
    "print('Data processing complete -- Printing Streamplot Animation')\n",
    "\n",
    "######################################################## \n",
    "\n",
    "#Function to reset formatting after each frame\n",
    "def init_func():\n",
    "    \n",
    "    ax1.clear()\n",
    "    ax1.set_xlabel('x')\n",
    "    ax1.set_ylabel('y')\n",
    "    ax1.invert_yaxis()\n",
    "    ax1.invert_xaxis()\n",
    "    ax1.add_patch(rectu_1)\n",
    "    ax1.set_title(\"Streamlines\") \n",
    "    \n",
    "#Function to animate plot with new after each frame\n",
    "def update_plot(i):\n",
    "    \n",
    "    filenum = '{0:03}'.format(i+1)\n",
    "    filepath = fileroot + fileprefix + filenum + fileext\n",
    "    df = pd.read_csv (filepath, sep = \" \") \n",
    "    shapedf= df.shape[1]\n",
    "\n",
    "    #The textfiles are not clean and have trailing whitespaces at random files.\n",
    "    #This if statement will catch the extra whitespace discrepansy in this specific data set and drop columns.\n",
    "    if shapedf == 5:\n",
    "        df.drop((df.columns)[[-1,-1]],axis=1,inplace=True)\n",
    "    elif shapedf == 6:\n",
    "        df.drop((df.columns)[[-1,-2]],axis=1,inplace=True)\n",
    "\n",
    "    #Drop last to columns\n",
    "    df.drop(index=df.index[0:106],inplace=True) #Dropping remaining data to keep reshape intervals constant\n",
    "\n",
    "    #Append column names\n",
    "    df.columns = [\"x\",\"y\",\"u\",\"v\"]\n",
    "    \n",
    "    #Flip Orientation of u and v velocity vectors\n",
    "#     df['u']= df['u']*-1\n",
    "    df['v']= df['v']*-1\n",
    "    \n",
    "    df_u = df['u']\n",
    "    df_v = df['v']\n",
    "\n",
    "    #Meshgrid to plot streamline data on image cooridinates\n",
    "    xstep = np.arange(df['x'].min(),df['x'].max(),12)\n",
    "    ystep = np.arange(df['y'].min(),df['y'].max(),12)\n",
    "    xx , yy = np.meshgrid(xstep,ystep)\n",
    "    \n",
    "    df_u  = pd.DataFrame(df_u).to_numpy() #no reshape on pd object - so change to np\n",
    "    df_u = np.reshape(df_u ,(66,107))\n",
    "    df_u = np.delete(df_u, 65, axis=0) #Deleting 1 row to align shape with meshgrid\n",
    "    df_u = np.delete(df_u, 106, axis=1) #Deleting 1 col to align shape with meshgrid\n",
    "\n",
    "    df_v  = pd.DataFrame(df_v).to_numpy() #no reshape on pd object - so change to np\n",
    "#     print(df_v.shape)\n",
    "    df_v = np.reshape(df_v ,(66,107))\n",
    "    df_v = np.delete(df_v, 65, axis=0) #Deleting 1 row to align shape with meshgrid\n",
    "    df_v = np.delete(df_v, 106, axis=1) #Deleting 1 col to align shape with meshgrid\n",
    "\n",
    "    df_speed = np.sqrt(pd.DataFrame(df['u']).to_numpy()**2 + pd.DataFrame(df['v']).to_numpy()**2)\n",
    "#     print(df_speed.shape)\n",
    "    df_speed = np.reshape(df_speed ,(66,107))\n",
    "    df_speed = np.delete(df_speed, 65, axis=0) #Deleting 1 row to align shape with meshgrid\n",
    "    df_speed = np.delete(df_speed, 106, axis=1) #Deleting 1 col to align shape with meshgrid\n",
    "    \n",
    "    #Clear Previous Quiver Object\n",
    "    # ax1.collections = [] # clear lines streamplot\n",
    "    # ax1.patches = [] # clear arrowheads streamplot\n",
    "        \n",
    "    #Add Updated Quiver Instance\n",
    "    ax1.streamplot(xx,yy,df_u,df_v,density=[4, 5],color=df_u,cmap='viridis')\n",
    "\n",
    "    ax1.set_xlim(1100,120)\n",
    "    ax1.set_ylim(774,0)\n",
    "    ax1.add_patch(rectu_1)\n",
    "    \n",
    "\n",
    "    title_str = \"Frame:\" + filenum                             \n",
    "    plt.title(title_str)\n",
    "\n",
    "########################################################     \n",
    "    \n",
    "#Creating Animation\n",
    "#Initialise figure to prepare for animation function\n",
    "fig, ((ax1)) = plt.subplots(nrows=1, ncols=1,figsize = (15,10))\n",
    "\n",
    "rectu_1 = patches.Rectangle((6, 708), 836, 66, linewidth=2, edgecolor='black', facecolor='grey')\n",
    "\n",
    "anim = animation.FuncAnimation(fig,update_plot,frames = total_frames, init_func = init_func)        \n",
    "\n",
    "#Writing animation to gif file\n",
    "f = f\"{sys.path[0]}/results/piv-rear-streamplot.gif\" \n",
    "writergif = animation.PillowWriter(fps=12) \n",
    "anim.save(f, writer=writergif)\n"
   ]
  },
  {
   "cell_type": "code",
   "execution_count": null,
   "id": "29ce7617-851e-4d14-9a4b-0da7300a376f",
   "metadata": {},
   "outputs": [],
   "source": []
  },
  {
   "cell_type": "code",
   "execution_count": null,
   "id": "a76ca6c3-9494-4417-a2d1-6d0dd5b5dfda",
   "metadata": {},
   "outputs": [],
   "source": []
  }
 ],
 "metadata": {
  "kernelspec": {
   "display_name": "Python 3 (ipykernel)",
   "language": "python",
   "name": "python3"
  },
  "language_info": {
   "codemirror_mode": {
    "name": "ipython",
    "version": 3
   },
   "file_extension": ".py",
   "mimetype": "text/x-python",
   "name": "python",
   "nbconvert_exporter": "python",
   "pygments_lexer": "ipython3",
   "version": "3.10.4"
  }
 },
 "nbformat": 4,
 "nbformat_minor": 5
}
