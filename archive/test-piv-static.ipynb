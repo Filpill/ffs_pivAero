{
 "cells": [
  {
   "cell_type": "code",
   "execution_count": 4,
   "id": "055f2b4b-91ac-4da4-a3e0-256741118ed8",
   "metadata": {},
   "outputs": [
    {
     "ename": "IndexError",
     "evalue": "index -2 is out of bounds for axis 0 with size 1",
     "output_type": "error",
     "traceback": [
      "\u001b[0;31m---------------------------------------------------------------------------\u001b[0m",
      "\u001b[0;31mIndexError\u001b[0m                                Traceback (most recent call last)",
      "Input \u001b[0;32mIn [4]\u001b[0m, in \u001b[0;36m<cell line: 22>\u001b[0;34m()\u001b[0m\n\u001b[1;32m     19\u001b[0m df \u001b[38;5;241m=\u001b[39m pd\u001b[38;5;241m.\u001b[39mread_csv (filepath, sep \u001b[38;5;241m=\u001b[39m \u001b[38;5;124m'\u001b[39m\u001b[38;5;130;01m\\t\u001b[39;00m\u001b[38;5;124m'\u001b[39m) \n\u001b[1;32m     21\u001b[0m \u001b[38;5;66;03m#Drop last to columns and append column names\u001b[39;00m\n\u001b[0;32m---> 22\u001b[0m df\u001b[38;5;241m.\u001b[39mdrop(\u001b[43m(\u001b[49m\u001b[43mdf\u001b[49m\u001b[38;5;241;43m.\u001b[39;49m\u001b[43mcolumns\u001b[49m\u001b[43m)\u001b[49m\u001b[43m[\u001b[49m\u001b[43m[\u001b[49m\u001b[38;5;241;43m-\u001b[39;49m\u001b[38;5;241;43m1\u001b[39;49m\u001b[43m,\u001b[49m\u001b[38;5;241;43m-\u001b[39;49m\u001b[38;5;241;43m2\u001b[39;49m\u001b[43m]\u001b[49m\u001b[43m]\u001b[49m,axis\u001b[38;5;241m=\u001b[39m\u001b[38;5;241m1\u001b[39m,inplace\u001b[38;5;241m=\u001b[39m\u001b[38;5;28;01mTrue\u001b[39;00m)\n\u001b[1;32m     23\u001b[0m df\u001b[38;5;241m.\u001b[39mdrop(index\u001b[38;5;241m=\u001b[39mdf\u001b[38;5;241m.\u001b[39mindex[\u001b[38;5;241m1140\u001b[39m:\u001b[38;5;241m1196\u001b[39m],inplace\u001b[38;5;241m=\u001b[39m\u001b[38;5;28;01mTrue\u001b[39;00m) \u001b[38;5;66;03m#Dropping remaining data to keep reshape intervals constant\u001b[39;00m\n\u001b[1;32m     24\u001b[0m df\u001b[38;5;241m.\u001b[39mcolumns \u001b[38;5;241m=\u001b[39m [\u001b[38;5;124m\"\u001b[39m\u001b[38;5;124mx\u001b[39m\u001b[38;5;124m\"\u001b[39m,\u001b[38;5;124m\"\u001b[39m\u001b[38;5;124my\u001b[39m\u001b[38;5;124m\"\u001b[39m,\u001b[38;5;124m\"\u001b[39m\u001b[38;5;124mu\u001b[39m\u001b[38;5;124m\"\u001b[39m,\u001b[38;5;124m\"\u001b[39m\u001b[38;5;124mv\u001b[39m\u001b[38;5;124m\"\u001b[39m]\n",
      "File \u001b[0;32m~/.local/lib/python3.10/site-packages/pandas/core/indexes/base.py:5055\u001b[0m, in \u001b[0;36mIndex.__getitem__\u001b[0;34m(self, key)\u001b[0m\n\u001b[1;32m   5048\u001b[0m \u001b[38;5;28;01mif\u001b[39;00m com\u001b[38;5;241m.\u001b[39mis_bool_indexer(key):\n\u001b[1;32m   5049\u001b[0m     \u001b[38;5;66;03m# if we have list[bools, length=1e5] then doing this check+convert\u001b[39;00m\n\u001b[1;32m   5050\u001b[0m     \u001b[38;5;66;03m#  takes 166 µs + 2.1 ms and cuts the ndarray.__getitem__\u001b[39;00m\n\u001b[1;32m   5051\u001b[0m     \u001b[38;5;66;03m#  time below from 3.8 ms to 496 µs\u001b[39;00m\n\u001b[1;32m   5052\u001b[0m     \u001b[38;5;66;03m# if we already have ndarray[bool], the overhead is 1.4 µs or .25%\u001b[39;00m\n\u001b[1;32m   5053\u001b[0m     key \u001b[38;5;241m=\u001b[39m np\u001b[38;5;241m.\u001b[39masarray(key, dtype\u001b[38;5;241m=\u001b[39m\u001b[38;5;28mbool\u001b[39m)\n\u001b[0;32m-> 5055\u001b[0m result \u001b[38;5;241m=\u001b[39m \u001b[43mgetitem\u001b[49m\u001b[43m(\u001b[49m\u001b[43mkey\u001b[49m\u001b[43m)\u001b[49m\n\u001b[1;32m   5056\u001b[0m \u001b[38;5;66;03m# Because we ruled out integer above, we always get an arraylike here\u001b[39;00m\n\u001b[1;32m   5057\u001b[0m \u001b[38;5;28;01mif\u001b[39;00m result\u001b[38;5;241m.\u001b[39mndim \u001b[38;5;241m>\u001b[39m \u001b[38;5;241m1\u001b[39m:\n",
      "\u001b[0;31mIndexError\u001b[0m: index -2 is out of bounds for axis 0 with size 1"
     ]
    }
   ],
   "source": [
    "import sys\n",
    "import pandas as pd\n",
    "import numpy as np\n",
    "import matplotlib.pyplot as plt\n",
    "import matplotlib.animation as animation\n",
    "import matplotlib.patches as patches\n",
    "import matplotlib.cm as cm\n",
    "import matplotlib.colors as colors\n",
    "np.set_printoptions(threshold=sys.maxsize)\n",
    "np.set_printoptions(linewidth=np.inf)\n",
    "\n",
    "#Reading in PIV Vector Data\n",
    "fileroot = f'{sys.path[0]}/V20_front_01run/PLT_WS24/'\n",
    "fileprefix = 'B00'\n",
    "fileext = '.plt'\n",
    "\n",
    "filenum = '{0:03}'.format(2)\n",
    "filepath = fileroot + fileprefix + filenum +fileext\n",
    "df = pd.read_csv (filepath, sep = '\\t') \n",
    "\n",
    "#Drop last to columns and append column names\n",
    "df.drop((df.columns)[[-1,-2]],axis=1,inplace=True)\n",
    "df.drop(index=df.index[1140:1196],inplace=True) #Dropping remaining data to keep reshape intervals constant\n",
    "df.columns = [\"x\",\"y\",\"u\",\"v\"]\n",
    "\n",
    "#Computing Velocity using the u and v components\n",
    "df_velocity = np.sqrt(df['u']**2 + df['v']**2)\n",
    "df_u = df['u']\n",
    "df_v = df['v']\n",
    "print(df_velocity.shape)\n",
    "\n",
    "#Meshgrid to plot velocity data on image cooridinates\n",
    "xstep = np.arange(df['x'].min(),df['x'].max(),16)\n",
    "ystep = np.arange(df['y'].min(),df['y'].max(),16)\n",
    "print(xstep.shape)\n",
    "print(ystep.shape)\n",
    "xx , yy = np.meshgrid(xstep,ystep)\n",
    "\n",
    "df_velocity  = pd.DataFrame(df_velocity).to_numpy() #no reshape on pd object - so change to np\n",
    "df_velocity = np.reshape(df_velocity ,(20,57))\n",
    "df_velocity = np.delete(df_velocity , 56, axis=1) #Deleting 1 row to align shape with meshgrid\n",
    "\n",
    "df_u  = pd.DataFrame(df_u).to_numpy() #no reshape on pd object - so change to np\n",
    "df_u = np.reshape(df_u ,(20,57))\n",
    "df_u = np.delete(df_u , 56, axis=1) #Deleting 1 row to align shape with meshgrid\n",
    "\n",
    "df_v  = pd.DataFrame(df_v).to_numpy() #no reshape on pd object - so change to np\n",
    "df_v = np.reshape(df_v ,(20,57))\n",
    "df_v = np.delete(df_v , 56, axis=1) #Deleting 1 row to align shape with meshgrid\n",
    "\n",
    "fig, ((ax1,ax2,ax3)) = plt.subplots(nrows=3, ncols=1,figsize = (16,20))\n",
    "ax1.contourf(xx,yy,df_velocity,30)\n",
    "rect = patches.Rectangle((795, 16), 100, 200, linewidth=2, edgecolor='black', facecolor='grey')\n",
    "rect2 = patches.Rectangle((16, 16), 780, 16, linewidth=2, edgecolor='black', facecolor='grey')\n",
    "ax2.quiver(df['x'],df['y'],df['u'],df['v'],cmap=('autumn'),norm=colors.LogNorm(vmin=df['u'].min(),vmax=df['u'].max()))\n",
    "ax3.streamplot(xx,yy,df_u,df_v)\n",
    "\n",
    "# Add the patch to the Axes\n",
    "ax1.add_patch(rect)\n",
    "ax1.add_patch(rect2)\n",
    "plt.show()\n",
    "\n"
   ]
  },
  {
   "cell_type": "code",
   "execution_count": null,
   "id": "90b66075-a9cd-4e16-a62c-57fd73434b48",
   "metadata": {},
   "outputs": [],
   "source": []
  },
  {
   "cell_type": "code",
   "execution_count": null,
   "id": "e4c26f58-0905-449c-8ae7-4663f2bc56b1",
   "metadata": {},
   "outputs": [],
   "source": []
  },
  {
   "cell_type": "code",
   "execution_count": null,
   "id": "f58bc545-a3ba-4917-8c28-1944d30a14c4",
   "metadata": {},
   "outputs": [],
   "source": []
  }
 ],
 "metadata": {
  "kernelspec": {
   "display_name": "Python 3 (ipykernel)",
   "language": "python",
   "name": "python3"
  },
  "language_info": {
   "codemirror_mode": {
    "name": "ipython",
    "version": 3
   },
   "file_extension": ".py",
   "mimetype": "text/x-python",
   "name": "python",
   "nbconvert_exporter": "python",
   "pygments_lexer": "ipython3",
   "version": "3.10.4"
  }
 },
 "nbformat": 4,
 "nbformat_minor": 5
}
